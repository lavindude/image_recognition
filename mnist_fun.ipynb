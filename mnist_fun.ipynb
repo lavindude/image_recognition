{
  "nbformat": 4,
  "nbformat_minor": 0,
  "metadata": {
    "colab": {
      "provenance": []
    },
    "kernelspec": {
      "name": "python3",
      "display_name": "Python 3"
    },
    "language_info": {
      "name": "python"
    }
  },
  "cells": [
    {
      "cell_type": "code",
      "source": [
        "#libraries\n",
        "import pandas as pd\n",
        "import torch\n",
        "from torch.utils.data import DataLoader, TensorDataset\n",
        "import torch.optim as optim\n",
        "import torch.nn as nn"
      ],
      "metadata": {
        "id": "xm9oznmPL0lY"
      },
      "execution_count": 1,
      "outputs": []
    },
    {
      "cell_type": "code",
      "source": [
        "#constants that can be fine-tuned\n",
        "batch_size = 64\n",
        "hidden_layer_nodes = 32\n",
        "learning_rate = 0.001"
      ],
      "metadata": {
        "id": "5OvJY57-u5Pz"
      },
      "execution_count": 64,
      "outputs": []
    },
    {
      "cell_type": "code",
      "source": [
        "def accuracy(predictions, actuals):\n",
        "  num_correct = 0\n",
        "  for i in range(len(predictions)):\n",
        "    pred = torch.argmax(predictions[i])\n",
        "    if pred == actuals[i]:\n",
        "      num_correct += 1\n",
        "\n",
        "  accuracy = num_correct / len(predictions)\n",
        "  return accuracy"
      ],
      "metadata": {
        "id": "Ku8E7Ni2fVXe"
      },
      "execution_count": 36,
      "outputs": []
    },
    {
      "cell_type": "code",
      "source": [
        "# retrieve data and initialize\n",
        "df = pd.read_csv('sample_data/mnist_train_small.csv')\n",
        "df_test = pd.read_csv('sample_data/mnist_test.csv')\n",
        "\n",
        "x_train_df = df.iloc[:, 1:]\n",
        "y_train_df = df.iloc[:, 0]\n",
        "x_test_df = df_test.iloc[:, 1:]\n",
        "y_test_df = df_test.iloc[:, 0]\n",
        "\n",
        "x_train = torch.tensor(x_train_df.values, dtype=torch.float32)\n",
        "y_train = torch.tensor(y_train_df.values, dtype=torch.long) # no need to one hot encode, CrossEntropyLoss does it for us by providing correct index\n",
        "x_test = torch.tensor(x_test_df.values, dtype=torch.float32)\n",
        "y_test = torch.tensor(y_test_df.values, dtype=torch.long)\n",
        "\n",
        "num_features = len(x_train[0])\n",
        "num_classes = len(torch.unique(y_train))\n",
        "\n",
        "train_dataset = TensorDataset(x_train, y_train)\n",
        "train_loader = DataLoader(train_dataset, batch_size=batch_size, shuffle=True)"
      ],
      "metadata": {
        "id": "fcvLe1KPpTbp"
      },
      "execution_count": 65,
      "outputs": []
    },
    {
      "cell_type": "code",
      "source": [
        "# neural network 1\n",
        "def network_1(d) -> nn.Module:\n",
        "  model = nn.Sequential(\n",
        "      nn.Linear(d, hidden_layer_nodes),\n",
        "      nn.ReLU(),\n",
        "      nn.Linear(hidden_layer_nodes, hidden_layer_nodes),\n",
        "      nn.ReLU(),\n",
        "      nn.Linear(hidden_layer_nodes, num_classes)\n",
        "  )\n",
        "\n",
        "  return model"
      ],
      "metadata": {
        "id": "OvHHjCCzvtKj"
      },
      "execution_count": 66,
      "outputs": []
    },
    {
      "cell_type": "code",
      "source": [
        "model = network_1(num_features)\n",
        "loss = nn.CrossEntropyLoss()\n",
        "optimizer = optim.Adam(model.parameters(), lr=learning_rate)"
      ],
      "metadata": {
        "id": "AkSQQBpl0Y4D"
      },
      "execution_count": 67,
      "outputs": []
    },
    {
      "cell_type": "code",
      "source": [
        "model.train()\n",
        "train_accuracy = 0\n",
        "while train_accuracy < 0.99:\n",
        "  for X, y in train_loader:\n",
        "    predictions = model.forward(X)\n",
        "    train_accuracy = accuracy(predictions, y)\n",
        "\n",
        "    output = loss(predictions, y)\n",
        "\n",
        "    # backprop\n",
        "    optimizer.zero_grad()\n",
        "    output.backward()\n",
        "    optimizer.step()"
      ],
      "metadata": {
        "id": "eKBpJMpiIxiI"
      },
      "execution_count": 70,
      "outputs": []
    },
    {
      "cell_type": "code",
      "source": [
        "test_predictions = model.forward(x_test)\n",
        "test_accuracy = accuracy(test_predictions, y_test)\n",
        "print(\"Test accuracy:\", test_accuracy)"
      ],
      "metadata": {
        "colab": {
          "base_uri": "https://localhost:8080/"
        },
        "id": "MhpwK4HxA6_q",
        "outputId": "7861ba3c-300b-4243-d019-838b6fecc3e8"
      },
      "execution_count": 71,
      "outputs": [
        {
          "output_type": "stream",
          "name": "stdout",
          "text": [
            "Test accuracy: 0.9394939493949395\n"
          ]
        }
      ]
    }
  ]
}